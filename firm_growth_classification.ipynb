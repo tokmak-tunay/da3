{
 "cells": [
  {
   "cell_type": "code",
   "execution_count": 1,
   "id": "04abc5d1",
   "metadata": {},
   "outputs": [],
   "source": [
    "import os\n",
    "import sys\n",
    "import warnings\n",
    "warnings.filterwarnings(\"ignore\")"
   ]
  },
  {
   "cell_type": "code",
   "execution_count": 2,
   "id": "b4f60eb9",
   "metadata": {},
   "outputs": [],
   "source": [
    "import numpy as np\n",
    "import pandas as pd"
   ]
  },
  {
   "cell_type": "code",
   "execution_count": 3,
   "id": "36c29a09",
   "metadata": {},
   "outputs": [],
   "source": [
    "import matplotlib.pyplot as plt\n",
    "import seaborn as sns\n",
    "import sklearn as sk\n",
    "import patsy "
   ]
  },
  {
   "cell_type": "code",
   "execution_count": 4,
   "id": "402fff2b",
   "metadata": {},
   "outputs": [],
   "source": [
    "from sklearn.linear_model import (\n",
    "    LinearRegression,\n",
    "    LogisticRegression,\n",
    "    LogisticRegressionCV,\n",
    ")\n",
    "from sklearn.metrics import (\n",
    "    auc,\n",
    "    brier_score_loss,\n",
    "    confusion_matrix,\n",
    "    mean_squared_error,\n",
    "    roc_auc_score,\n",
    "    roc_curve,\n",
    ")\n",
    "from sklearn.model_selection import GridSearchCV, KFold, train_test_split\n",
    "from sklearn.preprocessing import StandardScaler\n",
    "\n"
   ]
  },
  {
   "cell_type": "code",
   "execution_count": 5,
   "id": "c0642862",
   "metadata": {
    "scrolled": true
   },
   "outputs": [
    {
     "data": {
      "text/plain": [
       "(287829, 48)"
      ]
     },
     "execution_count": 5,
     "metadata": {},
     "output_type": "execute_result"
    }
   ],
   "source": [
    "data = pd.read_csv('data/cs_bisnode_panel.csv')\n",
    "data.shape"
   ]
  },
  {
   "cell_type": "markdown",
   "id": "3c337e85",
   "metadata": {},
   "source": [
    "We are trying to categorize firms as fast growing or not. My criterion for fast growth is the change on return on sales.\n",
    "I decided that if a firm's income to sales ratio is above median, those firms are labelled as fast growing. The justification\n",
    "for the median value as threshold is that we have a balanced data set to train our models. Now that we know our criterion is the income to sales ratio change from 2014 to 2015, let's manipulate our data accordingly."
   ]
  },
  {
   "cell_type": "markdown",
   "id": "0a23fbb7",
   "metadata": {},
   "source": [
    "Filter the data from 2014 to 2015"
   ]
  },
  {
   "cell_type": "code",
   "execution_count": 6,
   "id": "41027ac1",
   "metadata": {},
   "outputs": [
    {
     "data": {
      "text/plain": [
       "(55657, 48)"
      ]
     },
     "execution_count": 6,
     "metadata": {},
     "output_type": "execute_result"
    }
   ],
   "source": [
    "data = data.query(\"year in (2014,2015)\")\n",
    "data.shape"
   ]
  },
  {
   "cell_type": "markdown",
   "id": "00054ae0",
   "metadata": {},
   "source": [
    "Get firms that are operating"
   ]
  },
  {
   "cell_type": "code",
   "execution_count": 7,
   "id": "bd1707c2",
   "metadata": {},
   "outputs": [],
   "source": [
    "data[\"status_alive\"] = (data[\"sales\"] > 0 & (False == data[\"sales\"].isna())).astype(int)"
   ]
  },
  {
   "cell_type": "code",
   "execution_count": 8,
   "id": "51b0d502",
   "metadata": {},
   "outputs": [
    {
     "data": {
      "text/plain": [
       "(44386, 49)"
      ]
     },
     "execution_count": 8,
     "metadata": {},
     "output_type": "execute_result"
    }
   ],
   "source": [
    "data = data.query('status_alive == 1')\n",
    "data.shape"
   ]
  },
  {
   "cell_type": "code",
   "execution_count": 9,
   "id": "97cd479e",
   "metadata": {},
   "outputs": [
    {
     "data": {
      "text/plain": [
       "(39770, 49)"
      ]
     },
     "execution_count": 9,
     "metadata": {},
     "output_type": "execute_result"
    }
   ],
   "source": [
    "data = data[data.duplicated(subset=['comp_id'],keep = False)]\n",
    "data.shape"
   ]
  },
  {
   "cell_type": "code",
   "execution_count": 10,
   "id": "141d17d3",
   "metadata": {},
   "outputs": [
    {
     "data": {
      "text/plain": [
       "curr_assets     15\n",
       "curr_liab       15\n",
       "share_eq        15\n",
       "liq_assets      15\n",
       "inc_bef_tax      0\n",
       "sales            0\n",
       "fixed_assets    15\n",
       "dtype: int64"
      ]
     },
     "execution_count": 10,
     "metadata": {},
     "output_type": "execute_result"
    }
   ],
   "source": [
    "data[['curr_assets','curr_liab','share_eq','liq_assets','inc_bef_tax','sales','fixed_assets']].isnull().sum()"
   ]
  },
  {
   "cell_type": "code",
   "execution_count": 11,
   "id": "8c9c91ca",
   "metadata": {},
   "outputs": [],
   "source": [
    "data.dropna(subset = ['curr_assets','curr_liab','share_eq','liq_assets','inc_bef_tax','sales','fixed_assets',\n",
    "                     'inventories','tang_assets','intang_assets'],\n",
    "           inplace = True)"
   ]
  },
  {
   "cell_type": "code",
   "execution_count": 12,
   "id": "dac997fe",
   "metadata": {},
   "outputs": [],
   "source": [
    "data = data.replace(0,1)"
   ]
  },
  {
   "cell_type": "markdown",
   "id": "d6fa2d23",
   "metadata": {},
   "source": [
    "## FEATURE ENGINEERING"
   ]
  },
  {
   "cell_type": "code",
   "execution_count": 13,
   "id": "24c5e6b7",
   "metadata": {},
   "outputs": [],
   "source": [
    "data['current_ratio'] = (data['curr_assets'] / data['curr_liab'])"
   ]
  },
  {
   "cell_type": "code",
   "execution_count": 14,
   "id": "173760ec",
   "metadata": {},
   "outputs": [],
   "source": [
    "data['debt_to_equity'] = (data['curr_liab'] / data['share_eq'])"
   ]
  },
  {
   "cell_type": "code",
   "execution_count": 15,
   "id": "9a87cbf8",
   "metadata": {},
   "outputs": [],
   "source": [
    "data['quick_ratio'] = (data['liq_assets'] / data['curr_liab'])"
   ]
  },
  {
   "cell_type": "code",
   "execution_count": 16,
   "id": "db8500c2",
   "metadata": {},
   "outputs": [],
   "source": [
    "data['return_on_sales'] = (data['inc_bef_tax'] / data['sales'])"
   ]
  },
  {
   "cell_type": "code",
   "execution_count": 17,
   "id": "438aa91c",
   "metadata": {},
   "outputs": [],
   "source": [
    "data['fixed_asset_turnover'] = (data['fixed_assets'] / data['sales'])"
   ]
  },
  {
   "cell_type": "code",
   "execution_count": 18,
   "id": "97d65b9d",
   "metadata": {},
   "outputs": [],
   "source": [
    "df =pd.pivot_table(data[['comp_id','year','inventories','tang_assets','intang_assets',\n",
    "                     'current_ratio','debt_to_equity','quick_ratio','return_on_sales','fixed_asset_turnover']],\n",
    "              index = 'comp_id', columns = 'year')"
   ]
  },
  {
   "cell_type": "code",
   "execution_count": 19,
   "id": "2c7394a0",
   "metadata": {},
   "outputs": [],
   "source": [
    "df['inventory_c'] = ((df['inventories'][2015] - df['inventories'][2014]) / (df['inventories'][2014])) * 100"
   ]
  },
  {
   "cell_type": "code",
   "execution_count": 20,
   "id": "29d53330",
   "metadata": {},
   "outputs": [],
   "source": [
    "df['tang_assets_c'] = ((df['tang_assets'][2015] - df['tang_assets'][2014]) / (df['tang_assets'][2014])) * 100"
   ]
  },
  {
   "cell_type": "code",
   "execution_count": 21,
   "id": "5d32f5c7",
   "metadata": {},
   "outputs": [],
   "source": [
    "df['intang_assets_c'] = ((df['intang_assets'][2015] - df['intang_assets'][2014]) / (df['intang_assets'][2014])) * 100"
   ]
  },
  {
   "cell_type": "code",
   "execution_count": 22,
   "id": "d71b70de",
   "metadata": {},
   "outputs": [],
   "source": [
    "df['current_ratio_c'] = ((df['current_ratio'][2015] - df['current_ratio'][2014]) / (df['current_ratio'][2014])) * 100"
   ]
  },
  {
   "cell_type": "code",
   "execution_count": 23,
   "id": "9bce56c6",
   "metadata": {},
   "outputs": [],
   "source": [
    "df['debt_to_equity_c'] = ((df['debt_to_equity'][2015] - df['debt_to_equity'][2014]) / (df['debt_to_equity'][2014])) * 100"
   ]
  },
  {
   "cell_type": "code",
   "execution_count": 24,
   "id": "d5633710",
   "metadata": {},
   "outputs": [],
   "source": [
    "df['quick_ratio_c'] = ((df['quick_ratio'][2015] - df['quick_ratio'][2014]) / (df['quick_ratio'][2014])) * 100"
   ]
  },
  {
   "cell_type": "code",
   "execution_count": 25,
   "id": "89cac6db",
   "metadata": {},
   "outputs": [],
   "source": [
    "df['return_on_sales_c'] = ((df['return_on_sales'][2015] - df['return_on_sales'][2014]) / (df['return_on_sales'][2014])) * 100"
   ]
  },
  {
   "cell_type": "code",
   "execution_count": 26,
   "id": "87578d1f",
   "metadata": {},
   "outputs": [],
   "source": [
    "df['fixed_asset_turnover_c'] = ((df['fixed_asset_turnover'][2015] - df['fixed_asset_turnover'][2014]) / (df['fixed_asset_turnover'][2014])) * 100"
   ]
  },
  {
   "cell_type": "markdown",
   "id": "85f94cfe",
   "metadata": {},
   "source": [
    "## DEFINE TARGET VARIABLE"
   ]
  },
  {
   "cell_type": "markdown",
   "id": "75b6504a",
   "metadata": {},
   "source": [
    "When we examine the distribution of income to sales we see that some firms are in loss margin. If those firms are making loss,\n",
    "we cannot talk about a growth at all. Therefore, I will build my model considering firms that generate at least 10% income on \n",
    "sales."
   ]
  },
  {
   "cell_type": "markdown",
   "id": "a7d1d1ee",
   "metadata": {},
   "source": [
    "Now we have income/sales for each firm. Let's assign the labels. "
   ]
  },
  {
   "cell_type": "code",
   "execution_count": 27,
   "id": "7e622d14",
   "metadata": {},
   "outputs": [],
   "source": [
    "df = df[['inventory_c','tang_assets_c','intang_assets_c','current_ratio_c','debt_to_equity_c',\n",
    "        'quick_ratio_c','return_on_sales_c','fixed_asset_turnover_c']]"
   ]
  },
  {
   "cell_type": "code",
   "execution_count": 28,
   "id": "1991c8c3",
   "metadata": {},
   "outputs": [],
   "source": [
    "df['fast_growth'] = np.where(df['return_on_sales_c'] > df['return_on_sales_c'].quantile(.75),1,0)"
   ]
  },
  {
   "cell_type": "markdown",
   "id": "00c3c130",
   "metadata": {},
   "source": [
    "Now that we have our classification variable. We can continue with model building."
   ]
  },
  {
   "cell_type": "code",
   "execution_count": 29,
   "id": "0cffed4f",
   "metadata": {},
   "outputs": [
    {
     "data": {
      "text/plain": [
       "(19872, 9)"
      ]
     },
     "execution_count": 29,
     "metadata": {},
     "output_type": "execute_result"
    }
   ],
   "source": [
    "df.dropna(inplace = True)\n",
    "df.shape"
   ]
  },
  {
   "cell_type": "code",
   "execution_count": 30,
   "id": "feda305c",
   "metadata": {},
   "outputs": [],
   "source": [
    "variables = ['inventory_c','tang_assets_c','intang_assets_c','current_ratio_c',\n",
    "             'debt_to_equity_c','quick_ratio_c','fixed_asset_turnover_c']"
   ]
  },
  {
   "cell_type": "code",
   "execution_count": 31,
   "id": "b86dbc0b",
   "metadata": {},
   "outputs": [],
   "source": [
    "def default_cost_function(tn, fp, fn, tp):\n",
    "    \n",
    "    cost = fp*2 + fn\n",
    "    \n",
    "    return cost"
   ]
  },
  {
   "cell_type": "markdown",
   "id": "4c6df94e",
   "metadata": {},
   "source": [
    "## RANDOM FOREST"
   ]
  },
  {
   "cell_type": "code",
   "execution_count": 32,
   "id": "1c925a65",
   "metadata": {},
   "outputs": [],
   "source": [
    "from sklearn.model_selection import train_test_split\n",
    "# implementing train-test-split\n",
    "X = df.drop('fast_growth',axis = 1)\n",
    "y = df.fast_growth\n",
    "X_train, X_test, y_train, y_test = train_test_split(X, y, test_size=0.20, random_state=20230226)"
   ]
  },
  {
   "cell_type": "code",
   "execution_count": 44,
   "id": "75c8767d",
   "metadata": {},
   "outputs": [
    {
     "name": "stdout",
     "output_type": "stream",
     "text": [
      "Fitting 5 folds for each of 50 candidates, totalling 250 fits\n",
      "{'n_estimators': 1000, 'max_features': 'auto', 'max_depth': 140}\n"
     ]
    }
   ],
   "source": [
    "from sklearn.model_selection import RandomizedSearchCV\n",
    "from sklearn.ensemble import RandomForestClassifier\n",
    "rfc = RandomForestClassifier()\n",
    "# number of trees in random forest\n",
    "n_estimators = [int(x) for x in np.linspace(start = 200, stop = 2000, num = 10)]\n",
    "# number of features at every split\n",
    "max_features = ['auto', 'sqrt']\n",
    "# max depth\n",
    "max_depth = [int(x) for x in np.linspace(100, 500, num = 11)]\n",
    "max_depth.append(None)\n",
    "# create random grid\n",
    "random_grid = {\n",
    " 'n_estimators': n_estimators,\n",
    " 'max_features': max_features,\n",
    " 'max_depth': max_depth\n",
    " }\n",
    "# Random search of parameters\n",
    "rfc_random = RandomizedSearchCV(estimator = rfc, param_distributions = random_grid, n_iter = 50, cv =5, verbose=2, random_state=42, n_jobs = -1)\n",
    "# Fit the model\n",
    "rfc_random.fit(X_train, y_train)\n",
    "# print results\n",
    "print(rfc_random.best_params_)"
   ]
  },
  {
   "cell_type": "code",
   "execution_count": 46,
   "id": "d02f7a9d",
   "metadata": {},
   "outputs": [],
   "source": [
    "from sklearn.model_selection import cross_val_score\n",
    "from sklearn.metrics import classification_report, confusion_matrix"
   ]
  },
  {
   "cell_type": "code",
   "execution_count": 47,
   "id": "afb75d69",
   "metadata": {},
   "outputs": [
    {
     "name": "stdout",
     "output_type": "stream",
     "text": [
      "=== Confusion Matrix ===\n",
      "[[2962    1]\n",
      " [   0 1012]]\n",
      "\n",
      "\n",
      "=== Classification Report ===\n",
      "              precision    recall  f1-score   support\n",
      "\n",
      "           0       1.00      1.00      1.00      2963\n",
      "           1       1.00      1.00      1.00      1012\n",
      "\n",
      "    accuracy                           1.00      3975\n",
      "   macro avg       1.00      1.00      1.00      3975\n",
      "weighted avg       1.00      1.00      1.00      3975\n",
      "\n"
     ]
    }
   ],
   "source": [
    "rfc = RandomForestClassifier(n_estimators=1000, max_depth=140, max_features='auto')\n",
    "rfc.fit(X_train,y_train)\n",
    "rfc_predict = rfc.predict(X_test)\n",
    "print(\"=== Confusion Matrix ===\")\n",
    "print(\"=== Classification Report ===\")\n",
    "print(classification_report(y_test, rfc_predict))"
   ]
  },
  {
   "cell_type": "markdown",
   "id": "0c48fcc3",
   "metadata": {},
   "source": [
    "## LOGIT"
   ]
  },
  {
   "cell_type": "code",
   "execution_count": 48,
   "id": "1cd32d36",
   "metadata": {},
   "outputs": [],
   "source": [
    "from sklearn.linear_model import LogisticRegressionCV\n",
    "from sklearn.metrics import roc_auc_score, roc_curve, precision_recall_curve, confusion_matrix,ConfusionMatrixDisplay"
   ]
  },
  {
   "cell_type": "code",
   "execution_count": 49,
   "id": "fb095021",
   "metadata": {},
   "outputs": [],
   "source": [
    "class LogisticRegressionWithThreshold(LogisticRegressionCV):\n",
    "    def predict(self, X, threshold=None):\n",
    "        if threshold == None: # If no threshold passed in, simply call the base class predict, effectively threshold=0.5\n",
    "            return LogisticRegressionCV.predict(self, X)\n",
    "        else:\n",
    "            y_scores = LogisticRegressionCV.predict_proba(self, X)[:, 1]\n",
    "            y_pred_with_threshold = (y_scores >= threshold).astype(int)\n",
    "\n",
    "            return y_pred_with_threshold\n",
    "        \n",
    "    def threshold_from_cost_function(self, X, y, cost_function):\n",
    "        y_scores = LogisticRegressionCV.predict_proba(self, X)[:, 1]\n",
    "        precisions, recalls, thresholds = precision_recall_curve(y, y_scores)\n",
    "\n",
    "        costs = []\n",
    "        tns = []\n",
    "        fps = []\n",
    "        fns = []\n",
    "        tps = []\n",
    "        \n",
    "        for threshold in thresholds:\n",
    "            y_pred_with_threshold = (y_scores >= threshold).astype(int)\n",
    "            tn, fp, fn, tp = confusion_matrix(y, y_pred_with_threshold).ravel()\n",
    "            costs.append(cost_function(tn, fp, fn, tp))\n",
    "            tns.append(tn), fps.append(fp), fns.append(fn), tps.append(tp)\n",
    "\n",
    "        df_cost = pd.DataFrame({'precision':precisions[:-1], 'recall':recalls[:-1], 'threshold':thresholds, 'cost':costs, 'tn':tns, 'fp':fps, 'fn':fns, 'tp':tps})\n",
    "        \n",
    "        min_cost = df_cost['cost'].min()\n",
    "        threshold = df_cost[df_cost['cost']==min_cost].iloc[0]['threshold']\n",
    "\n",
    "        return threshold,min_cost,df_cost\n"
   ]
  },
  {
   "cell_type": "code",
   "execution_count": 50,
   "id": "684e4c08",
   "metadata": {},
   "outputs": [],
   "source": [
    "lrt = LogisticRegressionWithThreshold(cv = 5)\n",
    "lrt.fit(X_train, y_train)\n",
    "\n",
    "threshold, min_cost, df_cost,cf= lrt.threshold_from_cost_function(X_train, y_train, default_cost_function)\n",
    "y_pred = lrt.predict(X_train, threshold)"
   ]
  },
  {
   "cell_type": "code",
   "execution_count": 51,
   "id": "4ec5dca0",
   "metadata": {},
   "outputs": [
    {
     "data": {
      "text/html": [
       "<div>\n",
       "<style scoped>\n",
       "    .dataframe tbody tr th:only-of-type {\n",
       "        vertical-align: middle;\n",
       "    }\n",
       "\n",
       "    .dataframe tbody tr th {\n",
       "        vertical-align: top;\n",
       "    }\n",
       "\n",
       "    .dataframe thead th {\n",
       "        text-align: right;\n",
       "    }\n",
       "</style>\n",
       "<table border=\"1\" class=\"dataframe\">\n",
       "  <thead>\n",
       "    <tr style=\"text-align: right;\">\n",
       "      <th></th>\n",
       "      <th>precision</th>\n",
       "      <th>recall</th>\n",
       "      <th>threshold</th>\n",
       "      <th>cost</th>\n",
       "      <th>tn</th>\n",
       "      <th>fp</th>\n",
       "      <th>fn</th>\n",
       "      <th>tp</th>\n",
       "    </tr>\n",
       "  </thead>\n",
       "  <tbody>\n",
       "    <tr>\n",
       "      <th>11877</th>\n",
       "      <td>1.0</td>\n",
       "      <td>0.994692</td>\n",
       "      <td>0.877853</td>\n",
       "      <td>21</td>\n",
       "      <td>11941</td>\n",
       "      <td>0</td>\n",
       "      <td>21</td>\n",
       "      <td>3935</td>\n",
       "    </tr>\n",
       "  </tbody>\n",
       "</table>\n",
       "</div>"
      ],
      "text/plain": [
       "       precision    recall  threshold  cost     tn  fp  fn    tp\n",
       "11877        1.0  0.994692   0.877853    21  11941   0  21  3935"
      ]
     },
     "execution_count": 51,
     "metadata": {},
     "output_type": "execute_result"
    }
   ],
   "source": [
    "df_cost[df_cost['cost'] == df_cost['cost'].min()]"
   ]
  },
  {
   "cell_type": "markdown",
   "id": "4dd7047f",
   "metadata": {},
   "source": [
    "## LOGIT-LASSO"
   ]
  },
  {
   "cell_type": "code",
   "execution_count": 41,
   "id": "5d97be69",
   "metadata": {},
   "outputs": [],
   "source": [
    "logit_lasso = LogisticRegressionWithThreshold(penalty = 'l1',cv = 5,solver=\"liblinear\")\n",
    "logit_lasso.fit(X_train, y_train)\n",
    "\n",
    "threshold, min_cost, df_cost,cf = logit_lasso.threshold_from_cost_function(X_train, y_train, default_cost_function)\n",
    "y_pred = logit_lasso.predict(X_train, threshold)"
   ]
  },
  {
   "cell_type": "code",
   "execution_count": 42,
   "id": "2c350ef8",
   "metadata": {},
   "outputs": [
    {
     "data": {
      "text/html": [
       "<div>\n",
       "<style scoped>\n",
       "    .dataframe tbody tr th:only-of-type {\n",
       "        vertical-align: middle;\n",
       "    }\n",
       "\n",
       "    .dataframe tbody tr th {\n",
       "        vertical-align: top;\n",
       "    }\n",
       "\n",
       "    .dataframe thead th {\n",
       "        text-align: right;\n",
       "    }\n",
       "</style>\n",
       "<table border=\"1\" class=\"dataframe\">\n",
       "  <thead>\n",
       "    <tr style=\"text-align: right;\">\n",
       "      <th></th>\n",
       "      <th>precision</th>\n",
       "      <th>recall</th>\n",
       "      <th>threshold</th>\n",
       "      <th>cost</th>\n",
       "      <th>tn</th>\n",
       "      <th>fp</th>\n",
       "      <th>fn</th>\n",
       "      <th>tp</th>\n",
       "    </tr>\n",
       "  </thead>\n",
       "  <tbody>\n",
       "    <tr>\n",
       "      <th>12026</th>\n",
       "      <td>0.99974</td>\n",
       "      <td>0.973205</td>\n",
       "      <td>0.508404</td>\n",
       "      <td>108</td>\n",
       "      <td>11940</td>\n",
       "      <td>1</td>\n",
       "      <td>106</td>\n",
       "      <td>3850</td>\n",
       "    </tr>\n",
       "  </tbody>\n",
       "</table>\n",
       "</div>"
      ],
      "text/plain": [
       "       precision    recall  threshold  cost     tn  fp   fn    tp\n",
       "12026    0.99974  0.973205   0.508404   108  11940   1  106  3850"
      ]
     },
     "execution_count": 42,
     "metadata": {},
     "output_type": "execute_result"
    }
   ],
   "source": [
    "df_cost[df_cost['cost'] == df_cost['cost'].min()]"
   ]
  },
  {
   "cell_type": "code",
   "execution_count": null,
   "id": "62d21224",
   "metadata": {},
   "outputs": [],
   "source": []
  }
 ],
 "metadata": {
  "kernelspec": {
   "display_name": "Python 3 (ipykernel)",
   "language": "python",
   "name": "python3"
  },
  "language_info": {
   "codemirror_mode": {
    "name": "ipython",
    "version": 3
   },
   "file_extension": ".py",
   "mimetype": "text/x-python",
   "name": "python",
   "nbconvert_exporter": "python",
   "pygments_lexer": "ipython3",
   "version": "3.11.1"
  }
 },
 "nbformat": 4,
 "nbformat_minor": 5
}
